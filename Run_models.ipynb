{
 "cells": [
  {
   "cell_type": "code",
   "execution_count": 131,
   "metadata": {},
   "outputs": [],
   "source": [
    "import tensorflow as tf\n",
    "from tensorflow.keras.models import Sequential, Model, load_model\n",
    "from tensorflow.keras import layers\n",
    "from tensorflow.keras.layers import Dense, Input, Lambda, Dropout, LSTM, Embedding, concatenate, Flatten, Bidirectional\n",
    "from tensorflow.keras.optimizers import Adam\n",
    "from tensorflow.keras import backend as K\n",
    "\n",
    "from sklearn.model_selection import train_test_split\n",
    "from sklearn import metrics\n",
    "\n",
    "import pandas as pd\n",
    "import numpy as np\n",
    "import math\n",
    "\n",
    "from processing import get_class_weights, get_prior, merge4Vectors, read_data, prepare_input\n",
    "from processing import multiclass_encode_labels, apply_standard_scaler, apply_cat_encoder, binary_encode_labels"
   ]
  },
  {
   "cell_type": "markdown",
   "metadata": {},
   "source": [
    "# Load the trained models"
   ]
  },
  {
   "cell_type": "code",
   "execution_count": 133,
   "metadata": {},
   "outputs": [],
   "source": [
    "simple_NN = load_model(\"models/normal_NN.h5\")\n",
    "simple_NN_particlecount = load_model(\"models/normal_NN_particlecount.h5\")\n",
    "binary_LSTM = load_model(\"models/LSTM_binary.h5\")\n",
    "multiclass_LSTM = load_model(\"models/LSTM_multiclass.h5\")\n",
    "multioutput_LSTM = load_model(\"models/LSTM_multioutput.h5\")"
   ]
  },
  {
   "cell_type": "markdown",
   "metadata": {},
   "source": [
    "# Manually set Prior "
   ]
  },
  {
   "cell_type": "code",
   "execution_count": 134,
   "metadata": {},
   "outputs": [],
   "source": [
    "PRIOR = {'4top':0.04,\n",
    "         'ttbar': 0.02,\n",
    "         'ttbarHiggs': 0.19,\n",
    "         'ttbarW': 0.51,\n",
    "         'ttbarZ': 0.24}\n",
    "\n",
    "PRIOR = np.array(list(PRIOR.values()))"
   ]
  },
  {
   "cell_type": "markdown",
   "metadata": {},
   "source": [
    "# Load the data to be predicted "
   ]
  },
  {
   "cell_type": "code",
   "execution_count": 135,
   "metadata": {},
   "outputs": [],
   "source": [
    "df = read_data(FILENAME='ExamData.csv')\n",
    "EVENTS = df['event ID']"
   ]
  },
  {
   "cell_type": "markdown",
   "metadata": {},
   "source": [
    "# Prepare Data"
   ]
  },
  {
   "cell_type": "code",
   "execution_count": 136,
   "metadata": {},
   "outputs": [],
   "source": [
    "FEATURES = [f'4Vector{x}' for x in range(1,11,1)]\n",
    "CAT_FEATURES = [f'obj{x}' for x in range(1,11,1)]\n",
    "MET_FEATURES = ['MET', 'METphi']\n",
    "df, cat_df = prepare_input(df, particle_count=False)\n",
    "df = merge4Vectors(df)\n",
    "X_4VEC = np.array([np.vstack(col) for col in df[FEATURES].values])\n",
    "X_CAT = cat_df[CAT_FEATURES].to_numpy()\n",
    "X_MET = df[MET_FEATURES].to_numpy()"
   ]
  },
  {
   "cell_type": "markdown",
   "metadata": {},
   "source": [
    "# Predict with binary model"
   ]
  },
  {
   "cell_type": "code",
   "execution_count": 143,
   "metadata": {},
   "outputs": [
    {
     "name": "stdout",
     "output_type": "stream",
     "text": [
      "1563/1563 [==============================] - 33s 21ms/step\n",
      "(50000, 1)\n"
     ]
    }
   ],
   "source": [
    "binary_predictions = multioutput_LSTM.predict([X_4VEC, X_CAT, X_MET], verbose=1)\n",
    "binary_predictions = binary_predictions[0] # discard multiclass output\n",
    "print(binary_predictions.shape)"
   ]
  },
  {
   "cell_type": "markdown",
   "metadata": {},
   "source": [
    "# Predict with MultiClass model"
   ]
  },
  {
   "cell_type": "code",
   "execution_count": 139,
   "metadata": {},
   "outputs": [
    {
     "name": "stdout",
     "output_type": "stream",
     "text": [
      "1563/1563 [==============================] - 36s 22ms/step\n",
      "(50000, 5)\n"
     ]
    }
   ],
   "source": [
    "multiclass_predictions = multiclass_LSTM.predict([X_4VEC, X_CAT, X_MET], verbose=1)\n",
    "print(multiclass_predictions.shape)"
   ]
  },
  {
   "cell_type": "markdown",
   "metadata": {},
   "source": [
    "# Apply Prior"
   ]
  },
  {
   "cell_type": "code",
   "execution_count": 140,
   "metadata": {},
   "outputs": [],
   "source": [
    "posterior = np.array([np.array(vect*(PRIOR)) for vect in multiclass_predictions])\n",
    "# normalized_posterior = tf.keras.activations.softmax(tf.convert_to_tensor(posterior), axis=-1).numpy()"
   ]
  },
  {
   "cell_type": "markdown",
   "metadata": {},
   "source": [
    "# Save predictions"
   ]
  },
  {
   "cell_type": "code",
   "execution_count": 144,
   "metadata": {},
   "outputs": [],
   "source": [
    "binary_csv = pd.DataFrame(binary_predictions.T.tolist()[0], index=EVENTS)\n",
    "binary_csv.to_csv('predictions/binary_predictions.csv', header=False)"
   ]
  },
  {
   "cell_type": "code",
   "execution_count": 145,
   "metadata": {},
   "outputs": [],
   "source": [
    "multiclass_csv = pd.DataFrame(normalized_posterior.tolist(), index=EVENTS)\n",
    "multiclass_csv.to_csv('predictions/multiclass_predictions.csv', header=False)"
   ]
  }
 ],
 "metadata": {
  "kernelspec": {
   "display_name": "Python 3",
   "language": "python",
   "name": "python3"
  },
  "language_info": {
   "codemirror_mode": {
    "name": "ipython",
    "version": 3
   },
   "file_extension": ".py",
   "mimetype": "text/x-python",
   "name": "python",
   "nbconvert_exporter": "python",
   "pygments_lexer": "ipython3",
   "version": "3.6.10"
  }
 },
 "nbformat": 4,
 "nbformat_minor": 4
}
